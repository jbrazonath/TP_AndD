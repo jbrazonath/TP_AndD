{
  "cells": [
    {
      "cell_type": "markdown",
      "id": "5812f6fc",
      "metadata": {
        "id": "5812f6fc"
      },
      "source": [
        "# Trabajo Práctico Análisis de Datos"
      ]
    },
    {
      "cell_type": "markdown",
      "id": "6061c88a",
      "metadata": {
        "id": "6061c88a"
      },
      "source": [
        "## Librerías"
      ]
    },
    {
      "cell_type": "code",
      "execution_count": 643,
      "id": "49ed6730",
      "metadata": {
        "id": "49ed6730"
      },
      "outputs": [],
      "source": [
        "import kagglehub\n",
        "import os\n",
        "import pandas as pd\n",
        "import numpy as np\n",
        "import matplotlib.pyplot as plt\n",
        "import seaborn as sns\n",
        "import missingno as msno\n",
        "import statsmodels.api as sm\n",
        "\n",
        "from sklearn.model_selection import train_test_split\n",
        "from sklearn.preprocessing import OneHotEncoder"
      ]
    },
    {
      "cell_type": "markdown",
      "id": "c321f047",
      "metadata": {
        "id": "c321f047"
      },
      "source": [
        "## Dataset: Full TMDB Movies Dataset 2024 (Version 685 - 05/09/2025)"
      ]
    },
    {
      "cell_type": "markdown",
      "id": "2d770631",
      "metadata": {
        "id": "2d770631"
      },
      "source": [
        "### Descripción del dataset\n",
        "\n",
        "Es el dataset completo generado desde TMDb (The Movie Database). TMDb es una base de datos de películas completa que proporciona información sobre mas de 1M de peliculas desde 1916 hasta la actualidad.\n",
        "\n",
        "Posee las 24 variable mostradas a continuación\n",
        "\n",
        "Nro | Variable            | Tipo      | Descripción                                                                      |\n",
        "----|---------------------|-----------|----------------------------------------------------------------------------------|\n",
        "01  | id                  | int       | Identificador único de cada película.                                            |\n",
        "02  | title               | str       | Título de la película.                                                           |\n",
        "03  | vote_average        | float     | Promedio de votos o calificación otorgada por los espectadores.                  |\n",
        "04  | vote_count          | int       | Cantidad total de votos recibidos por la película.                               |\n",
        "05  | status              | str       | El estado de la película (p. ej., Lanzada, Rumoreada, En postproducción, etc).   |\n",
        "06  | release_date        | str       | Fecha en que la película fue estrenada.                                          |\n",
        "07  | revenue             | int       | Recaudación total generada por la película.                                      |\n",
        "08  | runtime             | int       | Duración de la película en minutos.                                              |\n",
        "09  | adult               | bool      | Indica si la película es apta solo para audiencias adultas.                      |\n",
        "10  | backdrop_path       | str       | URL de la imagen de fondo de la película.                                        |\n",
        "11  | budget              | int       | Presupuesto asignado para la película.                                           |\n",
        "12  | homepage            | str       | URL de la página oficial de la película                                          |\n",
        "13  | imdb_id             | str       | ID de IMDb de la película.                                                       |\n",
        "14  | original_language   | str       | Idioma original en el que se produjo la película.                                |\n",
        "15  | original_title      | str       | Título original de la película.                                                  |\n",
        "16  | overview            | str       | Descripción breve o sinopsis de la película.                                     |\n",
        "17  | popularity          | float     | Puntuación de popularidad de la película.                                        |\n",
        "18  | poster_path         | str       | URL de la imagen del póster de la película.                                      |\n",
        "19  | tagline             | str       | Eslogan o frase memorable asociada con la película.                              |\n",
        "20  | genres              | str       | Lista de géneros a los que pertenece la película.                                |\n",
        "21  | production_companies| str       | Lista de compañías productoras involucradas en la película.                      |\n",
        "22  | production_countries| str       | Lista de países involucrados en la producción de la película.                    |\n",
        "23  | spoken_languages    | str       | Lista de idiomas hablados en la película.                                        |\n",
        "24  | keywords            | str       | Lista de palabras clave asociadas con la película.                               |"
      ]
    },
    {
      "cell_type": "markdown",
      "id": "5192d623",
      "metadata": {},
      "source": [
        "### Objetivo: Evaluar distintos modelos de clasificación para predecir la categoría de popularidad de una película\n",
        "\n",
        "**Popularity** representa una medida relativa de interés del público hacia una película. Es un puntaje calculado por TMDb que refleja cuán popular es una película en la plataforma, basado en su actividad de usuarios.\n",
        "\n",
        "TMDb no publica la fórmula exacta (es propietaria), pero la comunidad ha documentado que combina los siguientes factores:\n",
        "\n",
        "|Factor | Descripción |\n",
        "|-------|-------------|\n",
        "|Número de votos (vote_count)|\tCuántos usuarios calificaron la película |\n",
        "|Promedio de votos (vote_average)|\tQué tan alta es la calificación |\n",
        "|Recencia|\tCuánto tiempo pasó desde el lanzamiento (películas nuevas tienden a tener más tráfico)|\n",
        "|Tráfico / vistas / búsquedas|\tCuántas veces fue vista o accedida en TMDb recientemente|\n",
        "\n",
        "Para este trabajo, se establecieron como objetivo tres rangos de popularidad:\n",
        "\n",
        "| Clase | Rango de Popularidad | Interpretación |\n",
        "|--------|------------------------|----------------|\n",
        "| **0 — Baja** | 0 - 1 | Películas con poca o nula atención. |\n",
        "| **1 — Media** | 1 - 10 | Películas conocidas o con cierto éxito. |\n",
        "| **2 — Alta** | > 10 | Películas muy populares o éxitos de taquilla. |"
      ]
    },
    {
      "cell_type": "markdown",
      "id": "ff772078",
      "metadata": {
        "id": "ff772078"
      },
      "source": [
        "## Carga del Dataset"
      ]
    },
    {
      "cell_type": "code",
      "execution_count": 644,
      "id": "5318ef42",
      "metadata": {},
      "outputs": [
        {
          "name": "stdout",
          "output_type": "stream",
          "text": [
            "Dataset descargado en: C:\\Users\\tincho\\.cache\\kagglehub\\datasets\\asaniczka\\tmdb-movies-dataset-2023-930k-movies\\versions\\722\\TMDB_movie_dataset_v11.csv\n"
          ]
        }
      ],
      "source": [
        "!pip install kagglehub --quiet\n",
        "\n",
        "# Fuerza a KaggleHub a volver a descargar la versión correcta\n",
        "dir = kagglehub.dataset_download(\"asaniczka/tmdb-movies-dataset-2023-930k-movies\")\n",
        "name = os.listdir(dir)[0]\n",
        "path = os.path.join(dir, name)\n",
        "\n",
        "print(\"Dataset descargado en:\", path)\n"
      ]
    },
    {
      "cell_type": "code",
      "execution_count": null,
      "id": "KqxbYC8b48t_",
      "metadata": {
        "colab": {
          "base_uri": "https://localhost:8080/",
          "height": 712
        },
        "id": "KqxbYC8b48t_",
        "outputId": "a8460ddf-b8a4-4383-d6ee-f02c0dea8dbf"
      },
      "outputs": [],
      "source": [
        "# Lectura segura del CSV (sin conflictos de opciones)\n",
        "df = pd.read_csv(path, on_bad_lines='skip')\n",
        "\n",
        "# Confirmamos\n",
        "print(\"✅ Dataset cargado correctamente\")\n",
        "print(f\"📊 Filas: {df.shape[0]} | Columnas: {df.shape[1]}\")"
      ]
    },
    {
      "cell_type": "code",
      "execution_count": null,
      "id": "82f92c8a",
      "metadata": {},
      "outputs": [
        {
          "data": {
            "text/html": [
              "<div>\n",
              "<style scoped>\n",
              "    .dataframe tbody tr th:only-of-type {\n",
              "        vertical-align: middle;\n",
              "    }\n",
              "\n",
              "    .dataframe tbody tr th {\n",
              "        vertical-align: top;\n",
              "    }\n",
              "\n",
              "    .dataframe thead th {\n",
              "        text-align: right;\n",
              "    }\n",
              "</style>\n",
              "<table border=\"1\" class=\"dataframe\">\n",
              "  <thead>\n",
              "    <tr style=\"text-align: right;\">\n",
              "      <th></th>\n",
              "      <th>id</th>\n",
              "      <th>title</th>\n",
              "      <th>vote_average</th>\n",
              "      <th>vote_count</th>\n",
              "      <th>status</th>\n",
              "      <th>release_date</th>\n",
              "      <th>revenue</th>\n",
              "      <th>runtime</th>\n",
              "      <th>adult</th>\n",
              "      <th>backdrop_path</th>\n",
              "      <th>...</th>\n",
              "      <th>original_title</th>\n",
              "      <th>overview</th>\n",
              "      <th>popularity</th>\n",
              "      <th>poster_path</th>\n",
              "      <th>tagline</th>\n",
              "      <th>genres</th>\n",
              "      <th>production_companies</th>\n",
              "      <th>production_countries</th>\n",
              "      <th>spoken_languages</th>\n",
              "      <th>keywords</th>\n",
              "    </tr>\n",
              "  </thead>\n",
              "  <tbody>\n",
              "    <tr>\n",
              "      <th>0</th>\n",
              "      <td>27205</td>\n",
              "      <td>Inception</td>\n",
              "      <td>8.364</td>\n",
              "      <td>34495</td>\n",
              "      <td>Released</td>\n",
              "      <td>2010-07-15</td>\n",
              "      <td>825532764</td>\n",
              "      <td>148</td>\n",
              "      <td>False</td>\n",
              "      <td>/8ZTVqvKDQ8emSGUEMjsS4yHAwrp.jpg</td>\n",
              "      <td>...</td>\n",
              "      <td>Inception</td>\n",
              "      <td>Cobb, a skilled thief who commits corporate es...</td>\n",
              "      <td>83.952</td>\n",
              "      <td>/oYuLEt3zVCKq57qu2F8dT7NIa6f.jpg</td>\n",
              "      <td>Your mind is the scene of the crime.</td>\n",
              "      <td>Action, Science Fiction, Adventure</td>\n",
              "      <td>Legendary Pictures, Syncopy, Warner Bros. Pict...</td>\n",
              "      <td>United Kingdom, United States of America</td>\n",
              "      <td>English, French, Japanese, Swahili</td>\n",
              "      <td>rescue, mission, dream, airplane, paris, franc...</td>\n",
              "    </tr>\n",
              "    <tr>\n",
              "      <th>1</th>\n",
              "      <td>157336</td>\n",
              "      <td>Interstellar</td>\n",
              "      <td>8.417</td>\n",
              "      <td>32571</td>\n",
              "      <td>Released</td>\n",
              "      <td>2014-11-05</td>\n",
              "      <td>701729206</td>\n",
              "      <td>169</td>\n",
              "      <td>False</td>\n",
              "      <td>/pbrkL804c8yAv3zBZR4QPEafpAR.jpg</td>\n",
              "      <td>...</td>\n",
              "      <td>Interstellar</td>\n",
              "      <td>The adventures of a group of explorers who mak...</td>\n",
              "      <td>140.241</td>\n",
              "      <td>/gEU2QniE6E77NI6lCU6MxlNBvIx.jpg</td>\n",
              "      <td>Mankind was born on Earth. It was never meant ...</td>\n",
              "      <td>Adventure, Drama, Science Fiction</td>\n",
              "      <td>Legendary Pictures, Syncopy, Lynda Obst Produc...</td>\n",
              "      <td>United Kingdom, United States of America</td>\n",
              "      <td>English</td>\n",
              "      <td>rescue, future, spacecraft, race against time,...</td>\n",
              "    </tr>\n",
              "    <tr>\n",
              "      <th>2</th>\n",
              "      <td>155</td>\n",
              "      <td>The Dark Knight</td>\n",
              "      <td>8.512</td>\n",
              "      <td>30619</td>\n",
              "      <td>Released</td>\n",
              "      <td>2008-07-16</td>\n",
              "      <td>1004558444</td>\n",
              "      <td>152</td>\n",
              "      <td>False</td>\n",
              "      <td>/nMKdUUepR0i5zn0y1T4CsSB5chy.jpg</td>\n",
              "      <td>...</td>\n",
              "      <td>The Dark Knight</td>\n",
              "      <td>Batman raises the stakes in his war on crime. ...</td>\n",
              "      <td>130.643</td>\n",
              "      <td>/qJ2tW6WMUDux911r6m7haRef0WH.jpg</td>\n",
              "      <td>Welcome to a world without rules.</td>\n",
              "      <td>Drama, Action, Crime, Thriller</td>\n",
              "      <td>DC Comics, Legendary Pictures, Syncopy, Isobel...</td>\n",
              "      <td>United Kingdom, United States of America</td>\n",
              "      <td>English, Mandarin</td>\n",
              "      <td>joker, sadism, chaos, secret identity, crime f...</td>\n",
              "    </tr>\n",
              "    <tr>\n",
              "      <th>3</th>\n",
              "      <td>19995</td>\n",
              "      <td>Avatar</td>\n",
              "      <td>7.573</td>\n",
              "      <td>29815</td>\n",
              "      <td>Released</td>\n",
              "      <td>2009-12-15</td>\n",
              "      <td>2923706026</td>\n",
              "      <td>162</td>\n",
              "      <td>False</td>\n",
              "      <td>/vL5LR6WdxWPjLPFRLe133jXWsh5.jpg</td>\n",
              "      <td>...</td>\n",
              "      <td>Avatar</td>\n",
              "      <td>In the 22nd century, a paraplegic Marine is di...</td>\n",
              "      <td>79.932</td>\n",
              "      <td>/kyeqWdyUXW608qlYkRqosgbbJyK.jpg</td>\n",
              "      <td>Enter the world of Pandora.</td>\n",
              "      <td>Action, Adventure, Fantasy, Science Fiction</td>\n",
              "      <td>Dune Entertainment, Lightstorm Entertainment, ...</td>\n",
              "      <td>United States of America, United Kingdom</td>\n",
              "      <td>English, Spanish</td>\n",
              "      <td>future, society, culture clash, space travel, ...</td>\n",
              "    </tr>\n",
              "    <tr>\n",
              "      <th>4</th>\n",
              "      <td>24428</td>\n",
              "      <td>The Avengers</td>\n",
              "      <td>7.710</td>\n",
              "      <td>29166</td>\n",
              "      <td>Released</td>\n",
              "      <td>2012-04-25</td>\n",
              "      <td>1518815515</td>\n",
              "      <td>143</td>\n",
              "      <td>False</td>\n",
              "      <td>/9BBTo63ANSmhC4e6r62OJFuK2GL.jpg</td>\n",
              "      <td>...</td>\n",
              "      <td>The Avengers</td>\n",
              "      <td>When an unexpected enemy emerges and threatens...</td>\n",
              "      <td>98.082</td>\n",
              "      <td>/RYMX2wcKCBAr24UyPD7xwmjaTn.jpg</td>\n",
              "      <td>Some assembly required.</td>\n",
              "      <td>Science Fiction, Action, Adventure</td>\n",
              "      <td>Marvel Studios</td>\n",
              "      <td>United States of America</td>\n",
              "      <td>English, Hindi, Russian</td>\n",
              "      <td>new york city, superhero, shield, based on com...</td>\n",
              "    </tr>\n",
              "  </tbody>\n",
              "</table>\n",
              "<p>5 rows × 24 columns</p>\n",
              "</div>"
            ],
            "text/plain": [
              "       id            title  vote_average  vote_count    status release_date  \\\n",
              "0   27205        Inception         8.364       34495  Released   2010-07-15   \n",
              "1  157336     Interstellar         8.417       32571  Released   2014-11-05   \n",
              "2     155  The Dark Knight         8.512       30619  Released   2008-07-16   \n",
              "3   19995           Avatar         7.573       29815  Released   2009-12-15   \n",
              "4   24428     The Avengers         7.710       29166  Released   2012-04-25   \n",
              "\n",
              "      revenue  runtime  adult                     backdrop_path  ...  \\\n",
              "0   825532764      148  False  /8ZTVqvKDQ8emSGUEMjsS4yHAwrp.jpg  ...   \n",
              "1   701729206      169  False  /pbrkL804c8yAv3zBZR4QPEafpAR.jpg  ...   \n",
              "2  1004558444      152  False  /nMKdUUepR0i5zn0y1T4CsSB5chy.jpg  ...   \n",
              "3  2923706026      162  False  /vL5LR6WdxWPjLPFRLe133jXWsh5.jpg  ...   \n",
              "4  1518815515      143  False  /9BBTo63ANSmhC4e6r62OJFuK2GL.jpg  ...   \n",
              "\n",
              "    original_title                                           overview  \\\n",
              "0        Inception  Cobb, a skilled thief who commits corporate es...   \n",
              "1     Interstellar  The adventures of a group of explorers who mak...   \n",
              "2  The Dark Knight  Batman raises the stakes in his war on crime. ...   \n",
              "3           Avatar  In the 22nd century, a paraplegic Marine is di...   \n",
              "4     The Avengers  When an unexpected enemy emerges and threatens...   \n",
              "\n",
              "  popularity                       poster_path  \\\n",
              "0     83.952  /oYuLEt3zVCKq57qu2F8dT7NIa6f.jpg   \n",
              "1    140.241  /gEU2QniE6E77NI6lCU6MxlNBvIx.jpg   \n",
              "2    130.643  /qJ2tW6WMUDux911r6m7haRef0WH.jpg   \n",
              "3     79.932  /kyeqWdyUXW608qlYkRqosgbbJyK.jpg   \n",
              "4     98.082   /RYMX2wcKCBAr24UyPD7xwmjaTn.jpg   \n",
              "\n",
              "                                             tagline  \\\n",
              "0               Your mind is the scene of the crime.   \n",
              "1  Mankind was born on Earth. It was never meant ...   \n",
              "2                  Welcome to a world without rules.   \n",
              "3                        Enter the world of Pandora.   \n",
              "4                            Some assembly required.   \n",
              "\n",
              "                                        genres  \\\n",
              "0           Action, Science Fiction, Adventure   \n",
              "1            Adventure, Drama, Science Fiction   \n",
              "2               Drama, Action, Crime, Thriller   \n",
              "3  Action, Adventure, Fantasy, Science Fiction   \n",
              "4           Science Fiction, Action, Adventure   \n",
              "\n",
              "                                production_companies  \\\n",
              "0  Legendary Pictures, Syncopy, Warner Bros. Pict...   \n",
              "1  Legendary Pictures, Syncopy, Lynda Obst Produc...   \n",
              "2  DC Comics, Legendary Pictures, Syncopy, Isobel...   \n",
              "3  Dune Entertainment, Lightstorm Entertainment, ...   \n",
              "4                                     Marvel Studios   \n",
              "\n",
              "                       production_countries  \\\n",
              "0  United Kingdom, United States of America   \n",
              "1  United Kingdom, United States of America   \n",
              "2  United Kingdom, United States of America   \n",
              "3  United States of America, United Kingdom   \n",
              "4                  United States of America   \n",
              "\n",
              "                     spoken_languages  \\\n",
              "0  English, French, Japanese, Swahili   \n",
              "1                             English   \n",
              "2                   English, Mandarin   \n",
              "3                    English, Spanish   \n",
              "4             English, Hindi, Russian   \n",
              "\n",
              "                                            keywords  \n",
              "0  rescue, mission, dream, airplane, paris, franc...  \n",
              "1  rescue, future, spacecraft, race against time,...  \n",
              "2  joker, sadism, chaos, secret identity, crime f...  \n",
              "3  future, society, culture clash, space travel, ...  \n",
              "4  new york city, superhero, shield, based on com...  \n",
              "\n",
              "[5 rows x 24 columns]"
            ]
          },
          "execution_count": 623,
          "metadata": {},
          "output_type": "execute_result"
        }
      ],
      "source": [
        "df.head(5)"
      ]
    },
    {
      "cell_type": "code",
      "execution_count": null,
      "id": "104217b0",
      "metadata": {},
      "outputs": [
        {
          "name": "stdout",
          "output_type": "stream",
          "text": [
            "<class 'pandas.core.frame.DataFrame'>\n",
            "RangeIndex: 1302236 entries, 0 to 1302235\n",
            "Data columns (total 24 columns):\n",
            " #   Column                Non-Null Count    Dtype  \n",
            "---  ------                --------------    -----  \n",
            " 0   id                    1302236 non-null  int64  \n",
            " 1   title                 1302220 non-null  object \n",
            " 2   vote_average          1302236 non-null  float64\n",
            " 3   vote_count            1302236 non-null  int64  \n",
            " 4   status                1302236 non-null  object \n",
            " 5   release_date          1042768 non-null  object \n",
            " 6   revenue               1302236 non-null  int64  \n",
            " 7   runtime               1302236 non-null  int64  \n",
            " 8   adult                 1302236 non-null  bool   \n",
            " 9   backdrop_path         332798 non-null   object \n",
            " 10  budget                1302236 non-null  int64  \n",
            " 11  homepage              135405 non-null   object \n",
            " 12  imdb_id               641856 non-null   object \n",
            " 13  original_language     1302236 non-null  object \n",
            " 14  original_title        1302220 non-null  object \n",
            " 15  overview              1014048 non-null  object \n",
            " 16  popularity            1302236 non-null  float64\n",
            " 17  poster_path           860218 non-null   object \n",
            " 18  tagline               181671 non-null   object \n",
            " 19  genres                748057 non-null   object \n",
            " 20  production_companies  567864 non-null   object \n",
            " 21  production_countries  691432 non-null   object \n",
            " 22  spoken_languages      715440 non-null   object \n",
            " 23  keywords              333051 non-null   object \n",
            "dtypes: bool(1), float64(2), int64(5), object(16)\n",
            "memory usage: 229.8+ MB\n"
          ]
        }
      ],
      "source": [
        "df.info()"
      ]
    },
    {
      "cell_type": "markdown",
      "id": "003181fc",
      "metadata": {},
      "source": [
        "## Preprocesamiento"
      ]
    },
    {
      "cell_type": "markdown",
      "id": "9f54581b",
      "metadata": {},
      "source": [
        "Se eliminan observaciones duplicadas."
      ]
    },
    {
      "cell_type": "code",
      "execution_count": null,
      "id": "2a01d56a",
      "metadata": {},
      "outputs": [
        {
          "name": "stdout",
          "output_type": "stream",
          "text": [
            "Cantidad de datos duplicados: 377\n",
            "Duplicados restantes: 0\n",
            "Observaciones: 1279696 | Características: 24\n"
          ]
        }
      ],
      "source": [
        "# Cantidad de datos duplicados\n",
        "print(\"Cantidad de datos duplicados:\", df.duplicated().sum())\n",
        "\n",
        "# Borro todas las duplicadas que tienen el mismo título y release_date\n",
        "df = df.drop_duplicates(subset=['title', 'release_date'], keep='first')\n",
        "\n",
        "# Verifico que no hayan quedado duplicados\n",
        "print(\"Duplicados restantes:\", df.duplicated(subset=['title', 'release_date']).sum())\n",
        "print(f\"Observaciones: {df.shape[0]} | Características: {df.shape[1]}\")"
      ]
    },
    {
      "cell_type": "markdown",
      "id": "76df8690",
      "metadata": {},
      "source": [
        "Se convierte 'release_date' a formato DateTime"
      ]
    },
    {
      "cell_type": "code",
      "execution_count": null,
      "id": "4e35bde7",
      "metadata": {},
      "outputs": [
        {
          "data": {
            "text/plain": [
              "dtype('<M8[ns]')"
            ]
          },
          "execution_count": 626,
          "metadata": {},
          "output_type": "execute_result"
        }
      ],
      "source": [
        "df[\"release_date\"] = pd.to_datetime(df[\"release_date\"], errors=\"coerce\")\n",
        "df[\"release_date\"] = df[\"release_date\"].replace({pd.NaT: np.nan})\n",
        "df[\"release_date\"].dtypes"
      ]
    },
    {
      "cell_type": "markdown",
      "id": "8e66acdf",
      "metadata": {},
      "source": [
        "Se reemplazan ceros por nan en variables numericas"
      ]
    },
    {
      "cell_type": "code",
      "execution_count": null,
      "id": "c0bf7d98",
      "metadata": {},
      "outputs": [],
      "source": [
        "# Reemplazo ceros por NaN en columnas específicas\n",
        "cols = [\"revenue\", \"budget\", \"runtime\"]\n",
        "df[cols] = df[cols].replace(0, np.nan)"
      ]
    },
    {
      "cell_type": "markdown",
      "id": "3f1cd4c1",
      "metadata": {},
      "source": [
        "## Análisis del target"
      ]
    },
    {
      "cell_type": "markdown",
      "id": "ea64c361",
      "metadata": {},
      "source": [
        "Descripción de Popularity"
      ]
    },
    {
      "cell_type": "code",
      "execution_count": null,
      "id": "6c3b0e95",
      "metadata": {},
      "outputs": [
        {
          "data": {
            "text/plain": [
              "count    1.279696e+06\n",
              "mean     1.113312e+00\n",
              "std      7.159543e+00\n",
              "min      0.000000e+00\n",
              "25%      6.000000e-01\n",
              "50%      6.000000e-01\n",
              "75%      8.400000e-01\n",
              "max      2.994357e+03\n",
              "Name: popularity, dtype: float64"
            ]
          },
          "execution_count": 628,
          "metadata": {},
          "output_type": "execute_result"
        }
      ],
      "source": [
        "df['popularity'].describe()"
      ]
    },
    {
      "cell_type": "markdown",
      "id": "78fb7c97",
      "metadata": {},
      "source": [
        "Histograma de popularity"
      ]
    },
    {
      "cell_type": "code",
      "execution_count": null,
      "id": "4e729705",
      "metadata": {},
      "outputs": [
        {
          "data": {
            "image/png": "[encoded data removed]",
            "text/plain": [
              "<Figure size 1000x300 with 1 Axes>"
            ]
          },
          "metadata": {},
          "output_type": "display_data"
        },
        {
          "data": {
            "text/html": [
              "<div>\n",
              "<style scoped>\n",
              "    .dataframe tbody tr th:only-of-type {\n",
              "        vertical-align: middle;\n",
              "    }\n",
              "\n",
              "    .dataframe tbody tr th {\n",
              "        vertical-align: top;\n",
              "    }\n",
              "\n",
              "    .dataframe thead th {\n",
              "        text-align: right;\n",
              "    }\n",
              "</style>\n",
              "<table border=\"1\" class=\"dataframe\">\n",
              "  <thead>\n",
              "    <tr style=\"text-align: right;\">\n",
              "      <th></th>\n",
              "      <th>title</th>\n",
              "      <th>popularity</th>\n",
              "      <th>release_date</th>\n",
              "      <th>vote_average</th>\n",
              "      <th>vote_count</th>\n",
              "    </tr>\n",
              "  </thead>\n",
              "  <tbody>\n",
              "    <tr>\n",
              "      <th>0</th>\n",
              "      <td>Inception</td>\n",
              "      <td>83.952</td>\n",
              "      <td>2010-07-15</td>\n",
              "      <td>8.364</td>\n",
              "      <td>34495</td>\n",
              "    </tr>\n",
              "    <tr>\n",
              "      <th>1</th>\n",
              "      <td>Interstellar</td>\n",
              "      <td>140.241</td>\n",
              "      <td>2014-11-05</td>\n",
              "      <td>8.417</td>\n",
              "      <td>32571</td>\n",
              "    </tr>\n",
              "    <tr>\n",
              "      <th>2</th>\n",
              "      <td>The Dark Knight</td>\n",
              "      <td>130.643</td>\n",
              "      <td>2008-07-16</td>\n",
              "      <td>8.512</td>\n",
              "      <td>30619</td>\n",
              "    </tr>\n",
              "    <tr>\n",
              "      <th>3</th>\n",
              "      <td>Avatar</td>\n",
              "      <td>79.932</td>\n",
              "      <td>2009-12-15</td>\n",
              "      <td>7.573</td>\n",
              "      <td>29815</td>\n",
              "    </tr>\n",
              "    <tr>\n",
              "      <th>4</th>\n",
              "      <td>The Avengers</td>\n",
              "      <td>98.082</td>\n",
              "      <td>2012-04-25</td>\n",
              "      <td>7.710</td>\n",
              "      <td>29166</td>\n",
              "    </tr>\n",
              "    <tr>\n",
              "      <th>5</th>\n",
              "      <td>Deadpool</td>\n",
              "      <td>72.735</td>\n",
              "      <td>2016-02-09</td>\n",
              "      <td>7.606</td>\n",
              "      <td>28894</td>\n",
              "    </tr>\n",
              "    <tr>\n",
              "      <th>6</th>\n",
              "      <td>Avengers: Infinity War</td>\n",
              "      <td>154.340</td>\n",
              "      <td>2018-04-25</td>\n",
              "      <td>8.255</td>\n",
              "      <td>27713</td>\n",
              "    </tr>\n",
              "    <tr>\n",
              "      <th>7</th>\n",
              "      <td>Fight Club</td>\n",
              "      <td>69.498</td>\n",
              "      <td>1999-10-15</td>\n",
              "      <td>8.438</td>\n",
              "      <td>27238</td>\n",
              "    </tr>\n",
              "    <tr>\n",
              "      <th>8</th>\n",
              "      <td>Guardians of the Galaxy</td>\n",
              "      <td>33.255</td>\n",
              "      <td>2014-07-30</td>\n",
              "      <td>7.906</td>\n",
              "      <td>26638</td>\n",
              "    </tr>\n",
              "    <tr>\n",
              "      <th>9</th>\n",
              "      <td>Pulp Fiction</td>\n",
              "      <td>74.862</td>\n",
              "      <td>1994-09-10</td>\n",
              "      <td>8.488</td>\n",
              "      <td>25893</td>\n",
              "    </tr>\n",
              "  </tbody>\n",
              "</table>\n",
              "</div>"
            ],
            "text/plain": [
              "                     title  popularity release_date  vote_average  vote_count\n",
              "0                Inception      83.952   2010-07-15         8.364       34495\n",
              "1             Interstellar     140.241   2014-11-05         8.417       32571\n",
              "2          The Dark Knight     130.643   2008-07-16         8.512       30619\n",
              "3                   Avatar      79.932   2009-12-15         7.573       29815\n",
              "4             The Avengers      98.082   2012-04-25         7.710       29166\n",
              "5                 Deadpool      72.735   2016-02-09         7.606       28894\n",
              "6   Avengers: Infinity War     154.340   2018-04-25         8.255       27713\n",
              "7               Fight Club      69.498   1999-10-15         8.438       27238\n",
              "8  Guardians of the Galaxy      33.255   2014-07-30         7.906       26638\n",
              "9             Pulp Fiction      74.862   1994-09-10         8.488       25893"
            ]
          },
          "execution_count": 629,
          "metadata": {},
          "output_type": "execute_result"
        }
      ],
      "source": [
        "plt.figure(figsize=(10,3))\n",
        "\n",
        "# Graficar histograma\n",
        "plt.hist(df[\"popularity\"], bins=50, color=\"steelblue\", edgecolor=\"black\", alpha=0.7)\n",
        "\n",
        "# Escala logarítmica en el eje Y\n",
        "plt.yscale(\"log\")\n",
        "\n",
        "plt.title(\"Distribution of Popularity (Log Scale)\")\n",
        "plt.xlabel(\"Popularity\")\n",
        "plt.ylabel(\"Frequency (log scale)\")\n",
        "plt.grid(True, alpha=0.3)\n",
        "plt.show()\n",
        "\n",
        "# Filtrar películas con popularity > 10\n",
        "top_popular = df[df[\"popularity\"] > 10]\n",
        "#top_popular = top_popular.sort_values(by=\"release_date\", ascending=True)\n",
        "top_popular[[\"title\", \"popularity\", \"release_date\", \"vote_average\", \"vote_count\"]].head(10)"
      ]
    },
    {
      "cell_type": "markdown",
      "id": "82389ad7",
      "metadata": {},
      "source": [
        "Creación de las clases"
      ]
    },
    {
      "cell_type": "code",
      "execution_count": null,
      "id": "109a2bcb",
      "metadata": {},
      "outputs": [
        {
          "data": {
            "image/png": "[encoded data removed]",
            "text/plain": [
              "<Figure size 1000x300 with 1 Axes>"
            ]
          },
          "metadata": {},
          "output_type": "display_data"
        }
      ],
      "source": [
        "df[\"popularity_class\"] = pd.cut(\n",
        "    df[\"popularity\"],\n",
        "    bins=[-1, 1, 10, df[\"popularity\"].max()],\n",
        "    labels=[0, 1, 2]  # 0 = low, 1 = medium, 2 = high\n",
        ").astype(\"int\")\n",
        "\n",
        "plt.figure(figsize=(10,3))\n",
        "\n",
        "# Contar cuántas películas hay por clase\n",
        "class_counts = df[\"popularity_class\"].value_counts()\n",
        "\n",
        "# Graficar barras\n",
        "plt.bar(class_counts.index, class_counts.values, color=\"cornflowerblue\", edgecolor=\"black\")\n",
        "\n",
        "# Títulos y etiquetas\n",
        "plt.title(\"Distribution of Popularity Classes\")\n",
        "plt.xlabel(\"Popularity Class\")\n",
        "plt.ylabel(\"Number of Movies\")\n",
        "plt.grid(True, axis=\"y\", alpha=0.3)\n",
        "\n",
        "# Mostrar valores sobre las barras\n",
        "for i, v in enumerate(class_counts.values):\n",
        "    plt.text(i, v + 50, str(v), ha=\"center\", fontweight=\"bold\")\n",
        "\n",
        "plt.show()"
      ]
    },
    {
      "cell_type": "markdown",
      "id": "31f3bbd1",
      "metadata": {},
      "source": [
        "## Split del dataset"
      ]
    },
    {
      "cell_type": "markdown",
      "id": "7bb6bcac",
      "metadata": {},
      "source": [
        "Se eliminan caractéristicas innecesarias (para el objetivo de este trabajo)"
      ]
    },
    {
      "cell_type": "code",
      "execution_count": null,
      "id": "95b05c69",
      "metadata": {},
      "outputs": [
        {
          "name": "stdout",
          "output_type": "stream",
          "text": [
            "Observaciones: 1279696 | Características: 16\n"
          ]
        }
      ],
      "source": [
        "df = df.drop(columns=['id', 'title', 'backdrop_path', 'homepage', 'imdb_id', 'original_title', 'overview', 'poster_path', 'tagline'],\n",
        "             errors='ignore')\n",
        "print(f\"Observaciones: {df.shape[0]} | Características: {df.shape[1]}\")"
      ]
    },
    {
      "cell_type": "markdown",
      "id": "6fd37152",
      "metadata": {},
      "source": [
        "Selección de target y split del dataset"
      ]
    },
    {
      "cell_type": "code",
      "execution_count": null,
      "id": "188e05dd",
      "metadata": {},
      "outputs": [
        {
          "name": "stdout",
          "output_type": "stream",
          "text": [
            "X_train: (1023756, 15)\n",
            "y_train: (1023756,)\n",
            "X_test: (255940, 15)\n",
            "y_test: (255940,)\n"
          ]
        }
      ],
      "source": [
        "# Definir la variable objetivo a predecir (clasificacion)\n",
        "y = df[\"popularity_class\"]\n",
        "X = df.drop(columns=[\"popularity_class\"])\n",
        "\n",
        "# Dividir en train/test\n",
        "X_train, X_test, y_train, y_test = train_test_split(\n",
        "    X, y,\n",
        "    test_size=0.2,\n",
        "    stratify=y,          # mantiene la proporción de clases\n",
        "    random_state=42\n",
        ")\n",
        "\n",
        "print(\"X_train:\", X_train.shape)\n",
        "print(\"y_train:\", y_train.shape)\n",
        "print(\"X_test:\", X_test.shape)\n",
        "print(\"y_test:\", y_test.shape)"
      ]
    },
    {
      "cell_type": "markdown",
      "id": "6dc6df84",
      "metadata": {},
      "source": [
        "## Análisis de nulos"
      ]
    },
    {
      "cell_type": "markdown",
      "id": "61642fc7",
      "metadata": {},
      "source": [
        "Cantidad de nulos"
      ]
    },
    {
      "cell_type": "code",
      "execution_count": null,
      "id": "f46f4088",
      "metadata": {},
      "outputs": [
        {
          "name": "stdout",
          "output_type": "stream",
          "text": [
            "                        nulos  porcentaje\n",
            "revenue               1005743   98.240499\n",
            "budget                 968233   94.576540\n",
            "keywords               759314   74.169431\n",
            "production_companies   572607   55.931980\n",
            "production_countries   474124   46.312207\n",
            "spoken_languages       456351   44.576149\n",
            "genres                 430670   42.067641\n",
            "runtime                300891   29.390890\n",
            "release_date           191717   18.726826\n",
            "vote_count                  0    0.000000\n",
            "status                      0    0.000000\n",
            "adult                       0    0.000000\n",
            "vote_average                0    0.000000\n",
            "popularity                  0    0.000000\n",
            "original_language           0    0.000000\n"
          ]
        }
      ],
      "source": [
        "# Cantidad de nulos por columna\n",
        "nulos = X_train.isnull().sum()\n",
        "\n",
        "# Porcentaje de nulos (sobre el total de filas)\n",
        "porcentaje = (nulos / len(X_train)) * 100\n",
        "\n",
        "# Combinar en un solo DataFrame\n",
        "nulos_df = pd.DataFrame({\n",
        "    'nulos': nulos,\n",
        "    'porcentaje': porcentaje\n",
        "})\n",
        "\n",
        "# Ordenar de mayor a menor\n",
        "nulos_df = nulos_df.sort_values(by='nulos', ascending=False)\n",
        "\n",
        "# Mostrar\n",
        "print(nulos_df)"
      ]
    },
    {
      "cell_type": "markdown",
      "id": "b40d9f5a",
      "metadata": {},
      "source": [
        "Revenue, Budget y Keywords: Se eliminan las las características por alto porcentage de nulos (> 70%)"
      ]
    },
    {
      "cell_type": "code",
      "execution_count": null,
      "id": "190d03e2",
      "metadata": {},
      "outputs": [
        {
          "name": "stdout",
          "output_type": "stream",
          "text": [
            "X_train: (1023756, 12)\n",
            "X_test: (255940, 12)\n"
          ]
        }
      ],
      "source": [
        "columns = ['revenue', 'budget', 'keywords'] \n",
        "\n",
        "X_train = X_train.drop(columns=columns, errors='ignore')\n",
        "X_test = X_test.drop(columns=columns, errors='ignore')\n",
        "\n",
        "print(\"X_train:\", X_train.shape)\n",
        "print(\"X_test:\", X_test.shape)"
      ]
    },
    {
      "cell_type": "markdown",
      "id": "72de5429",
      "metadata": {},
      "source": [
        "Release Date: Se imputa con mediana por Status"
      ]
    },
    {
      "cell_type": "code",
      "execution_count": null,
      "id": "8d56b4e4",
      "metadata": {},
      "outputs": [
        {
          "data": {
            "text/html": [
              "<div>\n",
              "<style scoped>\n",
              "    .dataframe tbody tr th:only-of-type {\n",
              "        vertical-align: middle;\n",
              "    }\n",
              "\n",
              "    .dataframe tbody tr th {\n",
              "        vertical-align: top;\n",
              "    }\n",
              "\n",
              "    .dataframe thead th {\n",
              "        text-align: right;\n",
              "    }\n",
              "</style>\n",
              "<table border=\"1\" class=\"dataframe\">\n",
              "  <thead>\n",
              "    <tr style=\"text-align: right;\">\n",
              "      <th></th>\n",
              "      <th>total</th>\n",
              "      <th>release_date_nulls</th>\n",
              "      <th>null_percentage</th>\n",
              "    </tr>\n",
              "    <tr>\n",
              "      <th>status</th>\n",
              "      <th></th>\n",
              "      <th></th>\n",
              "      <th></th>\n",
              "    </tr>\n",
              "  </thead>\n",
              "  <tbody>\n",
              "    <tr>\n",
              "      <th>Rumored</th>\n",
              "      <td>388</td>\n",
              "      <td>369</td>\n",
              "      <td>95.10</td>\n",
              "    </tr>\n",
              "    <tr>\n",
              "      <th>Canceled</th>\n",
              "      <td>233</td>\n",
              "      <td>218</td>\n",
              "      <td>93.56</td>\n",
              "    </tr>\n",
              "    <tr>\n",
              "      <th>Planned</th>\n",
              "      <td>6781</td>\n",
              "      <td>5741</td>\n",
              "      <td>84.66</td>\n",
              "    </tr>\n",
              "    <tr>\n",
              "      <th>Post Production</th>\n",
              "      <td>9002</td>\n",
              "      <td>5824</td>\n",
              "      <td>64.70</td>\n",
              "    </tr>\n",
              "    <tr>\n",
              "      <th>In Production</th>\n",
              "      <td>13585</td>\n",
              "      <td>4809</td>\n",
              "      <td>35.40</td>\n",
              "    </tr>\n",
              "    <tr>\n",
              "      <th>Released</th>\n",
              "      <td>993767</td>\n",
              "      <td>174756</td>\n",
              "      <td>17.59</td>\n",
              "    </tr>\n",
              "  </tbody>\n",
              "</table>\n",
              "</div>"
            ],
            "text/plain": [
              "                  total  release_date_nulls  null_percentage\n",
              "status                                                      \n",
              "Rumored             388                 369            95.10\n",
              "Canceled            233                 218            93.56\n",
              "Planned            6781                5741            84.66\n",
              "Post Production    9002                5824            64.70\n",
              "In Production     13585                4809            35.40\n",
              "Released         993767              174756            17.59"
            ]
          },
          "execution_count": 635,
          "metadata": {},
          "output_type": "execute_result"
        }
      ],
      "source": [
        "# Contar nulos en release_date por cada status\n",
        "nulos_por_status = X_train.groupby(\"status\")[\"release_date\"].apply(lambda x: x.isna().sum())\n",
        "\n",
        "# Contar totales por cada status\n",
        "total_por_status = X_train[\"status\"].value_counts()\n",
        "\n",
        "# Unir ambas series en un mismo DataFrame\n",
        "nulos_status_df = pd.concat([total_por_status, nulos_por_status], axis=1)\n",
        "nulos_status_df.columns = [\"total\", \"release_date_nulls\"]\n",
        "\n",
        "# Calcular el porcentaje de nulos\n",
        "nulos_status_df[\"null_percentage\"] = (nulos_status_df[\"release_date_nulls\"] / nulos_status_df[\"total\"] * 100).round(2)\n",
        "\n",
        "# Mostrar resultado ordenado por porcentaje de nulos\n",
        "nulos_status_df.sort_values(by=\"null_percentage\", ascending=False)"
      ]
    },
    {
      "cell_type": "code",
      "execution_count": null,
      "id": "85443528",
      "metadata": {},
      "outputs": [
        {
          "name": "stdout",
          "output_type": "stream",
          "text": [
            "status\n",
            "Released          2011-04-01 00:00:00\n",
            "Canceled          2019-07-14 00:00:00\n",
            "Post Production   2024-10-01 00:00:00\n",
            "In Production     2025-01-01 00:00:00\n",
            "Planned           2025-01-10 00:00:00\n",
            "Rumored           2025-07-10 12:00:00\n",
            "Name: release_date, dtype: datetime64[ns]\n"
          ]
        }
      ],
      "source": [
        "# Calcular la mediana por grupo\n",
        "\n",
        "release_date_medians = (\n",
        "    X_test[X_test[\"release_date\"].notna()]\n",
        "    .groupby(\"status\")[\"release_date\"]\n",
        "    .median()\n",
        "    .sort_values()\n",
        ")\n",
        "\n",
        "# Mostrar resultados\n",
        "print(release_date_medians)"
      ]
    },
    {
      "cell_type": "code",
      "execution_count": null,
      "id": "e64a2d92",
      "metadata": {},
      "outputs": [],
      "source": [
        "# Imputo medianas por grupo\n",
        "\n",
        "if X_train[\"release_date\"].isna().any():\n",
        "    X_train[\"release_date\"] = X_train[\"release_date\"].fillna(\n",
        "        X_train[\"status\"].map(release_date_medians)\n",
        "    )\n",
        "\n",
        "if X_test[\"release_date\"].isna().any():\n",
        "    X_test[\"release_date\"] = X_test[\"release_date\"].fillna(\n",
        "        X_test[\"status\"].map(release_date_medians)\n",
        "    )"
      ]
    },
    {
      "cell_type": "markdown",
      "id": "0bd044e7",
      "metadata": {},
      "source": [
        "Runtime: Se imputa con mediana"
      ]
    },
    {
      "cell_type": "code",
      "execution_count": null,
      "id": "97c64c19",
      "metadata": {},
      "outputs": [
        {
          "name": "stdout",
          "output_type": "stream",
          "text": [
            "66.0\n"
          ]
        }
      ],
      "source": [
        "runtime_median = X_train['runtime'].median()\n",
        "print(runtime_median)\n",
        "\n",
        "X_train[\"runtime\"] = X_train[\"runtime\"].fillna(runtime_median)\n",
        "X_test[\"runtime\"] = X_test[\"runtime\"].fillna(runtime_median)"
      ]
    },
    {
      "cell_type": "markdown",
      "id": "708d494f",
      "metadata": {},
      "source": [
        "Variables categóricas: Se van a codificar con OneHotEncoder, MultiLabelBinarizer y TargetEncoder.\n",
        "                       No se requiere tratamiento previo."
      ]
    },
    {
      "cell_type": "markdown",
      "id": "6cd086f8",
      "metadata": {},
      "source": [
        "## Análisis de outliers"
      ]
    },
    {
      "cell_type": "markdown",
      "id": "2d1fbbc4",
      "metadata": {},
      "source": [
        "Detectamos outliers en base al rango intercuartil"
      ]
    },
    {
      "cell_type": "code",
      "execution_count": null,
      "id": "69c291f5",
      "metadata": {},
      "outputs": [
        {
          "name": "stdout",
          "output_type": "stream",
          "text": [
            "\n",
            "📊 Análisis de outliers para 'vote_count':\n",
            "Q1 = 0.00 | Q3 = 1.00 | IQR = 1.00\n",
            "Límite inferior = -1.50\n",
            "Límite superior = 2.50\n",
            "Outliers detectados: 140304 (13.70%)\n",
            "\n",
            "📊 Análisis de outliers para 'runtime':\n",
            "Q1 = 28.00 | Q3 = 87.00 | IQR = 59.00\n",
            "Límite inferior = -60.50\n",
            "Límite superior = 175.50\n",
            "Outliers detectados: 18664 (1.82%)\n"
          ]
        }
      ],
      "source": [
        "def analizar_outliers_iqr(df, col, show_results=True):\n",
        "\n",
        "    datos = df[col]\n",
        "\n",
        "    # Calcular IQR\n",
        "    Q1 = datos.quantile(0.25)\n",
        "    Q3 = datos.quantile(0.75)\n",
        "    IQR = Q3 - Q1\n",
        "    lower = Q1 - 1.5 * IQR\n",
        "    upper = Q3 + 1.5 * IQR\n",
        "\n",
        "    # Detectar outliers\n",
        "    outliers = df[(df[col] < lower) | (df[col] > upper)]\n",
        "    n_outliers = len(outliers)\n",
        "    pct_outliers = n_outliers / len(df) * 100\n",
        "\n",
        "    # Resumen\n",
        "    if show_results:\n",
        "        print(f\"\\n📊 Análisis de outliers para '{col}':\")\n",
        "        print(f\"Q1 = {Q1:.2f} | Q3 = {Q3:.2f} | IQR = {IQR:.2f}\")\n",
        "        print(f\"Límite inferior = {lower:.2f}\")\n",
        "        print(f\"Límite superior = {upper:.2f}\")\n",
        "        print(f\"Outliers detectados: {n_outliers} ({pct_outliers:.2f}%)\")\n",
        "\n",
        "    return outliers\n",
        "\n",
        "# Para vote_count\n",
        "outliers_vote_train = analizar_outliers_iqr(X_train, \"vote_count\")\n",
        "\n",
        "# Para runtime\n",
        "outliers_runtime_train = analizar_outliers_iqr(X_train, \"runtime\")\n"
      ]
    },
    {
      "cell_type": "markdown",
      "id": "27a93695",
      "metadata": {},
      "source": [
        "Vote_count: Transformación logarítmica para reducir impacto"
      ]
    },
    {
      "cell_type": "code",
      "execution_count": null,
      "id": "5704ad0c",
      "metadata": {},
      "outputs": [],
      "source": [
        "X_train['vote_count'] = np.log1p(X_train['vote_count'])\n",
        "X_test['vote_count'] = np.log1p(X_test['vote_count'])\n",
        "\n",
        "analizar_outliers_iqr(X_train, \"vote_count\")"
      ]
    },
    {
      "cell_type": "markdown",
      "id": "94eb0885",
      "metadata": {},
      "source": [
        "Runtime: Imputacion con mediana"
      ]
    },
    {
      "cell_type": "code",
      "execution_count": null,
      "id": "0aa12afd",
      "metadata": {},
      "outputs": [
        {
          "name": "stdout",
          "output_type": "stream",
          "text": [
            "\n",
            "📊 Análisis de outliers para 'runtime':\n",
            "Q1 = 28.00 | Q3 = 85.00 | IQR = 57.00\n",
            "Límite inferior = -57.50\n",
            "Límite superior = 170.50\n",
            "Outliers detectados: 1850 (0.18%)\n"
          ]
        }
      ],
      "source": [
        "runtime_median = X_train['runtime'].median()\n",
        "outliers_runtime_test = analizar_outliers_iqr(X_test, \"runtime\", show_results=False)\n",
        "\n",
        "X_train.loc[outliers_runtime_train.index, 'runtime'] = runtime_median\n",
        "X_test.loc[outliers_runtime_test.index, 'runtime'] = runtime_median\n",
        "\n",
        "analizar_outliers_iqr(X_train, \"runtime\")"
      ]
    },
    {
      "cell_type": "markdown",
      "id": "e2e4e80a",
      "metadata": {},
      "source": [
        "## Codificacion de categóricas"
      ]
    },
    {
      "cell_type": "markdown",
      "id": "3091403a",
      "metadata": {},
      "source": [
        "Informacion del train"
      ]
    },
    {
      "cell_type": "code",
      "execution_count": null,
      "id": "a4c5e382",
      "metadata": {},
      "outputs": [
        {
          "name": "stdout",
          "output_type": "stream",
          "text": [
            "<class 'pandas.core.frame.DataFrame'>\n",
            "Index: 1023756 entries, 1189805 to 363475\n",
            "Data columns (total 17 columns):\n",
            " #   Column                  Non-Null Count    Dtype         \n",
            "---  ------                  --------------    -----         \n",
            " 0   vote_average            1023756 non-null  float64       \n",
            " 1   vote_count              1023756 non-null  float64       \n",
            " 2   release_date            1023756 non-null  datetime64[ns]\n",
            " 3   runtime                 1023756 non-null  float64       \n",
            " 4   adult                   1023756 non-null  float64       \n",
            " 5   original_language       1023756 non-null  object        \n",
            " 6   popularity              1023756 non-null  float64       \n",
            " 7   genres                  593086 non-null   object        \n",
            " 8   production_companies    451149 non-null   object        \n",
            " 9   production_countries    549632 non-null   object        \n",
            " 10  spoken_languages        567405 non-null   object        \n",
            " 11  status_Canceled         1023756 non-null  float64       \n",
            " 12  status_In Production    1023756 non-null  float64       \n",
            " 13  status_Planned          1023756 non-null  float64       \n",
            " 14  status_Post Production  1023756 non-null  float64       \n",
            " 15  status_Released         1023756 non-null  float64       \n",
            " 16  status_Rumored          1023756 non-null  float64       \n",
            "dtypes: datetime64[ns](1), float64(11), object(5)\n",
            "memory usage: 172.8+ MB\n"
          ]
        }
      ],
      "source": [
        "X_train.info()"
      ]
    },
    {
      "cell_type": "markdown",
      "id": "43a5fc5f",
      "metadata": {},
      "source": [
        "Adult: Directo a Float"
      ]
    },
    {
      "cell_type": "code",
      "execution_count": null,
      "id": "2f912096",
      "metadata": {},
      "outputs": [],
      "source": [
        "X_train[\"adult\"] = X_train[\"adult\"].astype(float)\n",
        "X_test[\"adult\"] = X_test[\"adult\"].astype(float)"
      ]
    },
    {
      "cell_type": "markdown",
      "id": "62e14dc3",
      "metadata": {},
      "source": [
        "Status: OneHotEncoder"
      ]
    },
    {
      "cell_type": "code",
      "execution_count": null,
      "id": "6ee37e25",
      "metadata": {},
      "outputs": [
        {
          "ename": "KeyError",
          "evalue": "\"None of [Index(['status'], dtype='object')] are in the [columns]\"",
          "output_type": "error",
          "traceback": [
            "\u001b[31m---------------------------------------------------------------------------\u001b[39m",
            "\u001b[31mKeyError\u001b[39m                                  Traceback (most recent call last)",
            "\u001b[36mCell\u001b[39m\u001b[36m \u001b[39m\u001b[32mIn[599]\u001b[39m\u001b[32m, line 2\u001b[39m\n\u001b[32m      1\u001b[39m status_ohe = OneHotEncoder(sparse_output=\u001b[38;5;28;01mFalse\u001b[39;00m, handle_unknown=\u001b[33m'\u001b[39m\u001b[33mignore\u001b[39m\u001b[33m'\u001b[39m)\n\u001b[32m----> \u001b[39m\u001b[32m2\u001b[39m status_ohe.fit(\u001b[43mX_train\u001b[49m\u001b[43m[\u001b[49m\u001b[43m[\u001b[49m\u001b[33;43m\"\u001b[39;49m\u001b[33;43mstatus\u001b[39;49m\u001b[33;43m\"\u001b[39;49m\u001b[43m]\u001b[49m\u001b[43m]\u001b[49m)\n\u001b[32m      4\u001b[39m status_train_encoded = status_ohe.transform(X_train[[\u001b[33m\"\u001b[39m\u001b[33mstatus\u001b[39m\u001b[33m\"\u001b[39m]])\n\u001b[32m      5\u001b[39m status_test_encoded = status_ohe.transform(X_test[[\u001b[33m\"\u001b[39m\u001b[33mstatus\u001b[39m\u001b[33m\"\u001b[39m]])\n",
            "\u001b[36mFile \u001b[39m\u001b[32md:\\Anaconda3\\envs\\add-env\\Lib\\site-packages\\pandas\\core\\frame.py:4113\u001b[39m, in \u001b[36mDataFrame.__getitem__\u001b[39m\u001b[34m(self, key)\u001b[39m\n\u001b[32m   4111\u001b[39m     \u001b[38;5;28;01mif\u001b[39;00m is_iterator(key):\n\u001b[32m   4112\u001b[39m         key = \u001b[38;5;28mlist\u001b[39m(key)\n\u001b[32m-> \u001b[39m\u001b[32m4113\u001b[39m     indexer = \u001b[38;5;28;43mself\u001b[39;49m\u001b[43m.\u001b[49m\u001b[43mcolumns\u001b[49m\u001b[43m.\u001b[49m\u001b[43m_get_indexer_strict\u001b[49m\u001b[43m(\u001b[49m\u001b[43mkey\u001b[49m\u001b[43m,\u001b[49m\u001b[43m \u001b[49m\u001b[33;43m\"\u001b[39;49m\u001b[33;43mcolumns\u001b[39;49m\u001b[33;43m\"\u001b[39;49m\u001b[43m)\u001b[49m[\u001b[32m1\u001b[39m]\n\u001b[32m   4115\u001b[39m \u001b[38;5;66;03m# take() does not accept boolean indexers\u001b[39;00m\n\u001b[32m   4116\u001b[39m \u001b[38;5;28;01mif\u001b[39;00m \u001b[38;5;28mgetattr\u001b[39m(indexer, \u001b[33m\"\u001b[39m\u001b[33mdtype\u001b[39m\u001b[33m\"\u001b[39m, \u001b[38;5;28;01mNone\u001b[39;00m) == \u001b[38;5;28mbool\u001b[39m:\n",
            "\u001b[36mFile \u001b[39m\u001b[32md:\\Anaconda3\\envs\\add-env\\Lib\\site-packages\\pandas\\core\\indexes\\base.py:6212\u001b[39m, in \u001b[36mIndex._get_indexer_strict\u001b[39m\u001b[34m(self, key, axis_name)\u001b[39m\n\u001b[32m   6209\u001b[39m \u001b[38;5;28;01melse\u001b[39;00m:\n\u001b[32m   6210\u001b[39m     keyarr, indexer, new_indexer = \u001b[38;5;28mself\u001b[39m._reindex_non_unique(keyarr)\n\u001b[32m-> \u001b[39m\u001b[32m6212\u001b[39m \u001b[38;5;28;43mself\u001b[39;49m\u001b[43m.\u001b[49m\u001b[43m_raise_if_missing\u001b[49m\u001b[43m(\u001b[49m\u001b[43mkeyarr\u001b[49m\u001b[43m,\u001b[49m\u001b[43m \u001b[49m\u001b[43mindexer\u001b[49m\u001b[43m,\u001b[49m\u001b[43m \u001b[49m\u001b[43maxis_name\u001b[49m\u001b[43m)\u001b[49m\n\u001b[32m   6214\u001b[39m keyarr = \u001b[38;5;28mself\u001b[39m.take(indexer)\n\u001b[32m   6215\u001b[39m \u001b[38;5;28;01mif\u001b[39;00m \u001b[38;5;28misinstance\u001b[39m(key, Index):\n\u001b[32m   6216\u001b[39m     \u001b[38;5;66;03m# GH 42790 - Preserve name from an Index\u001b[39;00m\n",
            "\u001b[36mFile \u001b[39m\u001b[32md:\\Anaconda3\\envs\\add-env\\Lib\\site-packages\\pandas\\core\\indexes\\base.py:6261\u001b[39m, in \u001b[36mIndex._raise_if_missing\u001b[39m\u001b[34m(self, key, indexer, axis_name)\u001b[39m\n\u001b[32m   6259\u001b[39m \u001b[38;5;28;01mif\u001b[39;00m nmissing:\n\u001b[32m   6260\u001b[39m     \u001b[38;5;28;01mif\u001b[39;00m nmissing == \u001b[38;5;28mlen\u001b[39m(indexer):\n\u001b[32m-> \u001b[39m\u001b[32m6261\u001b[39m         \u001b[38;5;28;01mraise\u001b[39;00m \u001b[38;5;167;01mKeyError\u001b[39;00m(\u001b[33mf\u001b[39m\u001b[33m\"\u001b[39m\u001b[33mNone of [\u001b[39m\u001b[38;5;132;01m{\u001b[39;00mkey\u001b[38;5;132;01m}\u001b[39;00m\u001b[33m] are in the [\u001b[39m\u001b[38;5;132;01m{\u001b[39;00maxis_name\u001b[38;5;132;01m}\u001b[39;00m\u001b[33m]\u001b[39m\u001b[33m\"\u001b[39m)\n\u001b[32m   6263\u001b[39m     not_found = \u001b[38;5;28mlist\u001b[39m(ensure_index(key)[missing_mask.nonzero()[\u001b[32m0\u001b[39m]].unique())\n\u001b[32m   6264\u001b[39m     \u001b[38;5;28;01mraise\u001b[39;00m \u001b[38;5;167;01mKeyError\u001b[39;00m(\u001b[33mf\u001b[39m\u001b[33m\"\u001b[39m\u001b[38;5;132;01m{\u001b[39;00mnot_found\u001b[38;5;132;01m}\u001b[39;00m\u001b[33m not in index\u001b[39m\u001b[33m\"\u001b[39m)\n",
            "\u001b[31mKeyError\u001b[39m: \"None of [Index(['status'], dtype='object')] are in the [columns]\""
          ]
        }
      ],
      "source": [
        "status_ohe = OneHotEncoder(sparse_output=False, handle_unknown='ignore')\n",
        "status_ohe.fit(X_train[[\"status\"]])\n",
        "\n",
        "status_train_encoded = status_ohe.transform(X_train[[\"status\"]])\n",
        "status_test_encoded = status_ohe.transform(X_test[[\"status\"]])\n",
        "\n",
        "cols_encoded = status_ohe.get_feature_names_out([\"status\"])\n",
        "\n",
        "X_train_status_ohe = pd.DataFrame(status_train_encoded, columns=cols_encoded, index=X_train.index)\n",
        "X_test_status_ohe = pd.DataFrame(status_test_encoded, columns=cols_encoded, index=X_test.index)\n",
        "\n",
        "X_train = pd.concat([X_train.drop(columns=[\"status\"]), X_train_status_ohe], axis=1)\n",
        "X_test = pd.concat([X_test.drop(columns=[\"status\"]), X_test_status_ohe], axis=1)"
      ]
    }
  ],
  "metadata": {
    "colab": {
      "provenance": []
    },
    "kernelspec": {
      "display_name": "add-env",
      "language": "python",
      "name": "python3"
    },
    "language_info": {
      "codemirror_mode": {
        "name": "ipython",
        "version": 3
      },
      "file_extension": ".py",
      "mimetype": "text/x-python",
      "name": "python",
      "nbconvert_exporter": "python",
      "pygments_lexer": "ipython3",
      "version": "3.11.13"
    }
  },
  "nbformat": 4,
  "nbformat_minor": 5
}
